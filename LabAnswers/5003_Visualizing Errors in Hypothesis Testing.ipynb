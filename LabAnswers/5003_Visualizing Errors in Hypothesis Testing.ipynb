{
 "cells": [
  {
   "cell_type": "markdown",
   "metadata": {},
   "source": [
    "# Visualizing Errors in Hypothesis Testing"
   ]
  },
  {
   "cell_type": "markdown",
   "metadata": {},
   "source": [
    ">In Lesson 6 of Module 1, we derived a hypothesis test for $$H_{0}: \\mu = \\mu_{0}$$ $$H_{1}: \\mu = \\mu_{1}$$ for a random sample of size $n$ from the $N(\\mu,\\sigma^{2})$ distribution with $\\sigma^{2}$ known.\n",
    ">\n",
    ">We assumed that $\\mu_{0}< \\mu_{1}$ and our test was to $$\\text{Reject} \\,\\, H_{0}, \\,\\, \\text{in favor of} \\,\\, H_{1} \\,\\, \\mbox{if} \\,\\, \\overline{X}>\\mu_{0}+z_{\\alpha} \\frac{\\sigma}{\\sqrt{n}}$$.\n",
    ">\n",
    "> Suppose that $n=10$, $\\mu_{0}=2$, $\\mu_{1}=3$, $\\sigma^{2}=5$, and $\\alpha=0.05$. Enter these values in the next cell. Call them mu0, mu1, sigmasq, and alpha.\n",
    ">\n",
    "> For example, type `mu0<-2`. Hit Enter to get to the next line and contine until they are all entered. Hit Shift+Enter to run the cell.\n"
   ]
  },
  {
   "cell_type": "code",
   "execution_count": 1,
   "metadata": {},
   "outputs": [],
   "source": [
    "#creating variables\n",
    "mu0 = 2\n",
    "mu1 = 3\n",
    "sigmasq = 5\n",
    "alpha = 0.05\n",
    "n = 10"
   ]
  },
  {
   "cell_type": "markdown",
   "metadata": {},
   "source": [
    "> Recall that the <b>critical value</b> $z_{\\alpha}$ is the number that cuts off area 0.05 to the right under the standard normal curve. In the next cell, type \n",
    ">\n",
    "> `cv<-qnorm(1-alpha)`\n",
    ">\n",
    "> Before running the cell, we will compute the cutoff value $\\mu_{0}+z_{\\alpha} \\frac{\\sigma}{\\sqrt{n}}$. In the lecture videos, we called this value \"c\". In R, \"c\",followed by \"()\" is a function that is used to create vectors. We can also define a variable \"c\", but to avoid any problems with protected symbols, let us call the cutoff \"cee\".\n",
    ">\n",
    "> Add the following to the cell below and run the cell.\n",
    ">\n",
    ">`cee<-mu0+cv*sqrt(sigmasq)/sqrt(n)`"
   ]
  },
  {
   "cell_type": "code",
   "execution_count": 5,
   "metadata": {},
   "outputs": [
    {
     "data": {
      "text/html": [
       "'The critical value is: 1.645'"
      ],
      "text/latex": [
       "'The critical value is: 1.645'"
      ],
      "text/markdown": [
       "'The critical value is: 1.645'"
      ],
      "text/plain": [
       "[1] \"The critical value is: 1.645\""
      ]
     },
     "metadata": {},
     "output_type": "display_data"
    },
    {
     "data": {
      "text/html": [
       "'The C (cutoff) value is: 3.163'"
      ],
      "text/latex": [
       "'The C (cutoff) value is: 3.163'"
      ],
      "text/markdown": [
       "'The C (cutoff) value is: 3.163'"
      ],
      "text/plain": [
       "[1] \"The C (cutoff) value is: 3.163\""
      ]
     },
     "metadata": {},
     "output_type": "display_data"
    }
   ],
   "source": [
    "cv = qnorm(1 - alpha)#The R argument takes in area left to right, while in stats, we denote area right to left\n",
    "cee = mu0 + cv* sqrt(sigmasq)/sqrt(n)\n",
    "\n",
    "paste0('The critical value is: ', round(cv,3))\n",
    "paste0('The C (cutoff) value is: ', round(cee,3))\n"
   ]
  },
  {
   "cell_type": "markdown",
   "metadata": {},
   "source": [
    "> In the cell above, type `cee` in the third line and run the cell. This will show you the cutoff you have computed.\n",
    ">\n",
    "> If the null hypothesis is true, the mean of the normal distribution we are working with is $2$. The $N(2,5)$ distribution will certainly produce values above $3$. This cutoff \"cee\" tells us what value above $2$ is large enough for us to start believing that the true mean is no longer $2$ but something larger."
   ]
  },
  {
   "cell_type": "markdown",
   "metadata": {},
   "source": [
    "> Let's simulate 10 values from the normal distribution with mean 2 and variance 5 and putting the results in a vector called \"my sample\". We can do this by simulating ten N(0,1) random variables, multiplying by the desired standard deviation and adding the desired mean. \n",
    "\n",
    "> In the cell below, type\n",
    ">\n",
    ">`mysample<-sqrt(5)*rnorm(10)+2`\n",
    ">\n",
    "> Alternatively you could simulate values directly from the desired distribution by typing\n",
    ">\n",
    ">`mysample<-rnorm(10,2,sqrt(5))`\n",
    ">\n",
    "> After either command, run the cell by holding down the Shift key and hitting Enter."
   ]
  },
  {
   "cell_type": "code",
   "execution_count": 7,
   "metadata": {},
   "outputs": [],
   "source": [
    "set.seed(42) #for reproducability\n",
    "method1 <- sqrt(5)* rnorm(10) + 2\n",
    "#Feel Free to uncomment the second method below and re-run the cells below                                                      \n",
    "#method1 <- rnorm(10, 2, sqrt(5))\n"
   ]
  },
  {
   "cell_type": "markdown",
   "metadata": {},
   "source": [
    "> What is the sample mean for your sample? In the next cell, type\n",
    ">\n",
    ">`mean(mysample)`\n",
    ">\n",
    "> and run the cell."
   ]
  },
  {
   "cell_type": "code",
   "execution_count": 13,
   "metadata": {},
   "outputs": [
    {
     "data": {
      "text/html": [
       "'The average of our sample is: 3.22379277553727'"
      ],
      "text/latex": [
       "'The average of our sample is: 3.22379277553727'"
      ],
      "text/markdown": [
       "'The average of our sample is: 3.22379277553727'"
      ],
      "text/plain": [
       "[1] \"The average of our sample is: 3.22379277553727\""
      ]
     },
     "metadata": {},
     "output_type": "display_data"
    },
    {
     "data": {
      "text/html": [
       "'The C (cutoff) value is: 3.163'"
      ],
      "text/latex": [
       "'The C (cutoff) value is: 3.163'"
      ],
      "text/markdown": [
       "'The C (cutoff) value is: 3.163'"
      ],
      "text/plain": [
       "[1] \"The C (cutoff) value is: 3.163\""
      ]
     },
     "metadata": {},
     "output_type": "display_data"
    },
    {
     "name": "stdout",
     "output_type": "stream",
     "text": [
      "[1] \"We reject the null hypothesis. However, our sample did come from the Normal distribution with mean 2. We would\\n            be making a Type 1 error\"\n"
     ]
    }
   ],
   "source": [
    "avrg = mean(method1)\n",
    "paste0('The average of our sample is: ', avrg)\n",
    "paste0('The C (cutoff) value is: ', round(cee,3))\n",
    "\n",
    "if (avrg < cee){\n",
    "    print('We fail to reject the null hypothesis and are concluding that the sample did indeed come from the N(2,5)\n",
    "            distibution - which it did')\n",
    "}\n",
    "if (avrg > cee){\n",
    "    print('We reject the null hypothesis. However, our sample did come from the Normal distribution with mean 2. We would\n",
    "            be making a Type 1 error')\n",
    "}"
   ]
  },
  {
   "cell_type": "markdown",
   "metadata": {},
   "source": [
    "> If your result is below your value of cee. You will fail to reject the null hypothesis. You are concluding that the sample did indeed come from the normal distribution with mean $2$, which it did.\n",
    ">\n",
    "> On the other hand, if your result is above your value of cee, you will reject the null hypothesis. Your sample did, in fact, come from the normal distribution with mean $2$ but you are concluding that the mean is actually higher than $2$. You have made a Type I Error.\n",
    ">\n",
    "> What happened in your case?\n",
    "\n"
   ]
  },
  {
   "cell_type": "markdown",
   "metadata": {},
   "source": [
    "> If we repeat our little experiment many times, we should see that will are making the Type I Error roughly 5% of the time. Let's try it!\n",
    ">\n",
    "> We will repeat our experiment 1,000 times. In the next cell, type\n",
    ">\n",
    "> >results<-rep(0,1000)\n",
    "> >\n",
    "> > for( i in 1:1000){\n",
    "> >\n",
    "> > &nbsp; &nbsp; &nbsp; mysample<-sqrt(5)*rnorm(10)+2\n",
    "> >\n",
    "> >}\n",
    ">\n",
    "> Indentation is not necessary in R but we include it for clarity. \"results\" is a vector of 1,000 zeros that will indicate the result for each sample.\n",
    ">\n",
    "> Underneath the line where you produce a sample, but before the closing brackets on the \"for statement\", we will check whether or not we will reject $H_{0}$. In there, type\n",
    ">\n",
    "> `if(mean(mysample)>cee){`\n",
    ">\n",
    ">  &nbsp; &nbsp; &nbsp; `results[i]<-1`\n",
    ">\n",
    "> `}`\n",
    ">\n",
    "> and then run the entire code by running the cell."
   ]
  },
  {
   "cell_type": "code",
   "execution_count": 33,
   "metadata": {},
   "outputs": [
    {
     "data": {
      "text/html": [
       "'Confirming we still have a 1000 observations: 1000'"
      ],
      "text/latex": [
       "'Confirming we still have a 1000 observations: 1000'"
      ],
      "text/markdown": [
       "'Confirming we still have a 1000 observations: 1000'"
      ],
      "text/plain": [
       "[1] \"Confirming we still have a 1000 observations: 1000\""
      ]
     },
     "metadata": {},
     "output_type": "display_data"
    }
   ],
   "source": [
    "results<-rep(0,1000)\n",
    "for( i in 1:1000){\n",
    "    mysample<-sqrt(5)*rnorm(10)+2\n",
    "    \n",
    "    if(mean(mysample)>cee){\n",
    "        results[i]<-1\n",
    "}\n",
    "       \n",
    "}\n",
    "paste0('Confirming we still have a 1000 observations: ',length(results))"
   ]
  },
  {
   "cell_type": "markdown",
   "metadata": {},
   "source": [
    "> The \"results\" vector is filled with 0's and 1's. The 1's occur every time we made a Type I error. The proportion of 1's can be gotten by summing everything in the vector and dividing by 1,000.\n",
    ">\n",
    "> `sum(results)/1000`"
   ]
  },
  {
   "cell_type": "code",
   "execution_count": 34,
   "metadata": {},
   "outputs": [
    {
     "data": {
      "text/html": [
       "'The proportion of 1s gotten: 0.046'"
      ],
      "text/latex": [
       "'The proportion of 1s gotten: 0.046'"
      ],
      "text/markdown": [
       "'The proportion of 1s gotten: 0.046'"
      ],
      "text/plain": [
       "[1] \"The proportion of 1s gotten: 0.046\""
      ]
     },
     "metadata": {},
     "output_type": "display_data"
    }
   ],
   "source": [
    "prop_error = sum(results)/length(results)\n",
    "paste0('The proportion of 1s gotten: ', prop_error)"
   ]
  },
  {
   "cell_type": "markdown",
   "metadata": {},
   "source": [
    "> DId you see something close to 0.05? Just for fun, run both of the last cells again. When you are done, try changing all instances of 1,000 to 10,000. You will, in fact, make a Type I error 5% of the time, but you'll need a lot of trials to make that number come in to focus! This is no different than having a coin with a 50-50 chance of coming up \"Heads\" when flipped. If you flip it 10 times, you might see 6 \"Heads\" and 4 \"Tails\". That doesn't mean that the probability of getting \"Heads\" is $0.60$. You just need more data to see it!\n"
   ]
  },
  {
   "cell_type": "code",
   "execution_count": 35,
   "metadata": {},
   "outputs": [
    {
     "data": {
      "text/html": [
       "'Confirming we still have a 10000 observations: 10000'"
      ],
      "text/latex": [
       "'Confirming we still have a 10000 observations: 10000'"
      ],
      "text/markdown": [
       "'Confirming we still have a 10000 observations: 10000'"
      ],
      "text/plain": [
       "[1] \"Confirming we still have a 10000 observations: 10000\""
      ]
     },
     "metadata": {},
     "output_type": "display_data"
    },
    {
     "data": {
      "text/html": [
       "'The proportion of 1s gotten: 0.0466'"
      ],
      "text/latex": [
       "'The proportion of 1s gotten: 0.0466'"
      ],
      "text/markdown": [
       "'The proportion of 1s gotten: 0.0466'"
      ],
      "text/plain": [
       "[1] \"The proportion of 1s gotten: 0.0466\""
      ]
     },
     "metadata": {},
     "output_type": "display_data"
    }
   ],
   "source": [
    "results<-rep(0,10000)\n",
    "for( i in 1:10000){\n",
    "    mysample<-sqrt(5)*rnorm(10)+2\n",
    "    \n",
    "    if(mean(mysample)>cee){\n",
    "        results[i]<-1\n",
    "}\n",
    "       \n",
    "}\n",
    "paste0('Confirming we still have a 10000 observations: ',length(results))\n",
    "\n",
    "prop_error_10000 = sum(results)/length(results)\n",
    "paste0('The proportion of 1s gotten: ', prop_error_10000)"
   ]
  }
 ],
 "metadata": {
  "kernelspec": {
   "display_name": "R",
   "language": "R",
   "name": "ir"
  }
 },
 "nbformat": 4,
 "nbformat_minor": 4
}
